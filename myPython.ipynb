{
 "cells": [
  {
   "cell_type": "code",
   "execution_count": 5,
   "id": "e380f3ff",
   "metadata": {
    "scrolled": true
   },
   "outputs": [
    {
     "name": "stdout",
     "output_type": "stream",
     "text": [
      "['r', 'e', 'm', 'o', 't', 'e']\n",
      "['danger', 'mouse', 'TV']\n"
     ]
    },
    {
     "ename": "TypeError",
     "evalue": "'int' object is not iterable",
     "output_type": "error",
     "traceback": [
      "\u001b[1;31m---------------------------------------------------------------------------\u001b[0m",
      "\u001b[1;31mTypeError\u001b[0m                                 Traceback (most recent call last)",
      "\u001b[1;32m~\\AppData\\Local\\Temp\\ipykernel_14616\\256373532.py\u001b[0m in \u001b[0;36m<module>\u001b[1;34m\u001b[0m\n\u001b[0;32m      3\u001b[0m \u001b[0mlist_non\u001b[0m \u001b[1;33m=\u001b[0m \u001b[1;33m[\u001b[0m\u001b[1;34m'danger'\u001b[0m\u001b[1;33m,\u001b[0m\u001b[1;34m'mouse'\u001b[0m\u001b[1;33m,\u001b[0m\u001b[1;34m'TV'\u001b[0m\u001b[1;33m]\u001b[0m\u001b[1;33m\u001b[0m\u001b[1;33m\u001b[0m\u001b[0m\n\u001b[0;32m      4\u001b[0m \u001b[0mprint\u001b[0m\u001b[1;33m(\u001b[0m\u001b[0mlist_non\u001b[0m\u001b[1;33m)\u001b[0m\u001b[1;33m\u001b[0m\u001b[1;33m\u001b[0m\u001b[0m\n\u001b[1;32m----> 5\u001b[1;33m \u001b[0mlist_of_integers\u001b[0m \u001b[1;33m=\u001b[0m \u001b[0mlist\u001b[0m\u001b[1;33m(\u001b[0m\u001b[1;36m987\u001b[0m\u001b[1;33m)\u001b[0m\u001b[1;33m\u001b[0m\u001b[1;33m\u001b[0m\u001b[0m\n\u001b[0m\u001b[0;32m      6\u001b[0m \u001b[1;31m#print(list_of_integers)\u001b[0m\u001b[1;33m\u001b[0m\u001b[1;33m\u001b[0m\u001b[0m\n\u001b[0;32m      7\u001b[0m \u001b[0mlength_of_list\u001b[0m \u001b[1;33m=\u001b[0m \u001b[1;33m[\u001b[0m\u001b[1;34m'bottle'\u001b[0m\u001b[1;33m,\u001b[0m\u001b[1;34m'chair'\u001b[0m\u001b[1;33m,\u001b[0m\u001b[1;34m'mouse'\u001b[0m\u001b[1;33m,\u001b[0m\u001b[1;34m'hand'\u001b[0m\u001b[1;33m]\u001b[0m\u001b[1;33m\u001b[0m\u001b[1;33m\u001b[0m\u001b[0m\n",
      "\u001b[1;31mTypeError\u001b[0m: 'int' object is not iterable"
     ]
    }
   ],
   "source": [
    "list_up = list('remote') \n",
    "print(list_up)\n",
    "list_non = ['danger','mouse','TV']\n",
    "print(list_non)\n",
    "#list_of_integers = list(987)\n",
    "#print(list_of_integers)\n",
    "length_of_list = ['bottle','chair','mouse','hand']\n",
    "#print(len(list_of_integers))\n",
    "print(len(length_of_list))\n",
    "print(len(list('green')))\n",
    "print(len(list()))\n",
    "#print(list('1','2','3'))"
   ]
  },
  {
   "cell_type": "markdown",
   "id": "f5f67e05",
   "metadata": {},
   "source": [
    "List can be written in [] or with function list()\n",
    "In List, there are 2 types: 1 is to write like list('....') --> only single string is used\n",
    "words used in [] any num. of elements can be given in this.\n",
    "ordered, i.e. each element has a fixed position in a list;\n",
    "iterable, i.e. you can get their elements one by one;\n",
    "able to store duplicate values;\n",
    "able to store different types of elements;\n",
    "integers and float numbers are not converted in list()"
   ]
  },
  {
   "cell_type": "code",
   "execution_count": 2,
   "id": "43d6909c",
   "metadata": {},
   "outputs": [
    {
     "name": "stdout",
     "output_type": "stream",
     "text": [
      "a and b =  False\n",
      "not a and b =  False\n",
      "a or b =  True\n",
      "not a or b =  False\n",
      "b or a =  True\n",
      "b and a =  False\n"
     ]
    }
   ],
   "source": [
    "a = True\n",
    "b = False\n",
    "print(\"a and b = \",a and b)\n",
    "print(\"not a and b = \",not a and b)\n",
    "print(\"a or b = \",a or b)\n",
    "print(\"not a or b = \",not a or b)\n",
    "print(\"b or a = \",b or a)\n",
    "print(\"b and a = \",b and a)\n"
   ]
  },
  {
   "cell_type": "code",
   "execution_count": 12,
   "id": "6f10c56c",
   "metadata": {},
   "outputs": [
    {
     "name": "stdout",
     "output_type": "stream",
     "text": [
      "False\n",
      "True\n",
      "33\n",
      "True\n"
     ]
    }
   ],
   "source": [
    "#print(5 and 0 and 12)\n",
    "\n",
    "x = -7 \n",
    "y = 5 \n",
    "z = 8 \n",
    "result = x <= y and y <= z  # this is called comparison chaining\n",
    "#print(result)\n",
    "\n",
    "a = 1\n",
    "b = 2\n",
    "c = 3\n",
    "e = 4\n",
    "f = 5\n",
    "g = 6\n",
    "\n",
    "print(b + c <= e or f + g >= e == f == 5) \n",
    "#(2 + 3 <= 4 or 5 + 6 >= 4 == 5 ==5) = false\n",
    "print((b + c <= e or f + g >= e) == (f == 5))\n",
    "#(2 + 3 <= 4 or 5 + 6 >= 5) == (5 == 5) = True\n",
    "print(b + c * f >= e and (f + g) * c)  \n",
    "#(2 + 3 * 5 >= 4 and (5 + 6)* 3) ==> 17 >= 4 & 33 --> True  \n",
    "print((f + g) * c and b + c * f >= e)\n",
    "#((5 + 6)*3 and 2 + 3 * 5 >= 4) --> 33 & 17"
   ]
  },
  {
   "cell_type": "code",
   "execution_count": 1,
   "id": "cf11016b",
   "metadata": {},
   "outputs": [
    {
     "name": "stdin",
     "output_type": "stream",
     "text": [
      " 5\n"
     ]
    },
    {
     "name": "stdout",
     "output_type": "stream",
     "text": [
      "True\n"
     ]
    }
   ],
   "source": [
    "x = int(input().strip())\n",
    "print(0 < x)\n",
    "\n"
   ]
  },
  {
   "cell_type": "code",
   "execution_count": 2,
   "id": "021d9b65",
   "metadata": {},
   "outputs": [
    {
     "name": "stdout",
     "output_type": "stream",
     "text": [
      "7\n",
      "43\n",
      "301\n",
      "True\n"
     ]
    }
   ],
   "source": [
    "number_of_hall = int(input())\n",
    "capacity = int(input())\n",
    "number_of_viewers = number_of_hall * capacity\n",
    "print(number_of_viewers)\n",
    "print(number_of_viewers >= capacity)"
   ]
  },
  {
   "cell_type": "code",
   "execution_count": 2,
   "id": "96847965",
   "metadata": {},
   "outputs": [
    {
     "name": "stdout",
     "output_type": "stream",
     "text": [
      "biology\n",
      "This is a sciences program at Stanford\n"
     ]
    }
   ],
   "source": [
    "harvard = \"linguistics, physics, programming, fine arts\"\n",
    "stanford = \"biology, classics, geophysics, music\"\n",
    "\n",
    "arts = \"linguistics, fine arts, classics, music\"\n",
    "sciences = \"physics, programming, biology, geophysics\"\n",
    "\n",
    "major = input()\n",
    "if major in harvard:\n",
    "    if major in arts:\n",
    "        print(\"This is an arts program at Harvard\")\n",
    "    if major in sciences:\n",
    "        print(\"This is a sciences program at Harvard\")\n",
    "if major in stanford:\n",
    "    if major in arts:\n",
    "        print(\"This is an arts program at Stanford\")\n",
    "    if major in sciences:\n",
    "        print(\"This is a sciences program at Stanford\")\n",
    "        "
   ]
  },
  {
   "cell_type": "code",
   "execution_count": 3,
   "id": "aa19a22b",
   "metadata": {},
   "outputs": [
    {
     "name": "stdout",
     "output_type": "stream",
     "text": [
      "5\n",
      "2\n",
      "1\n"
     ]
    }
   ],
   "source": [
    "num = [5, 4, 3, [2], 1]\n",
    "print(num[0])\n",
    "print(num[3][0])\n",
    "print(num[4])"
   ]
  },
  {
   "cell_type": "code",
   "execution_count": 10,
   "id": "309e2805",
   "metadata": {},
   "outputs": [
    {
     "name": "stdout",
     "output_type": "stream",
     "text": [
      "7\n",
      "world\n",
      "[9, 8, 11, 7, 6, 5, 4]\n"
     ]
    }
   ],
   "source": [
    "#nums = [1, 2, 3]\n",
    "#nums[1] = 5\n",
    "#print(nums)\n",
    "nums = [10, 9, 8, 7, 6, 5]\n",
    "nums[0] = nums[1] - 5\n",
    "if 4 in nums:\n",
    "  print(nums[3])\n",
    "else:\n",
    "  print(nums[4])\n",
    "words = [\"hello\"]\n",
    "words.append(\"world\")\n",
    "print(words[1])\n",
    "nums = [9, 8, 7, 6, 5]\n",
    "nums.append(4)\n",
    "nums.insert(2, 11)\n",
    "print((nums))"
   ]
  },
  {
   "cell_type": "code",
   "execution_count": 11,
   "id": "cee517bc",
   "metadata": {},
   "outputs": [
    {
     "name": "stdout",
     "output_type": "stream",
     "text": [
      "3\n",
      "2\n",
      "1\n",
      "0\n"
     ]
    }
   ],
   "source": [
    "i = 3\n",
    "while i>=0:\n",
    "   print(i)\n",
    "   i = i - 1\n",
    "    "
   ]
  },
  {
   "cell_type": "code",
   "execution_count": 12,
   "id": "69787c9a",
   "metadata": {},
   "outputs": [
    {
     "name": "stdout",
     "output_type": "stream",
     "text": [
      "5\n",
      "4\n",
      "3\n"
     ]
    }
   ],
   "source": [
    "i = 5\n",
    "while True:\n",
    "  print(i)\n",
    "  i = i - 1\n",
    "  if i <= 2:\n",
    "    break"
   ]
  },
  {
   "cell_type": "code",
   "execution_count": 13,
   "id": "dba4c330",
   "metadata": {},
   "outputs": [
    {
     "data": {
      "text/plain": [
       "{1: 90, 2: 87, 3: 78}"
      ]
     },
     "execution_count": 13,
     "metadata": {},
     "output_type": "execute_result"
    }
   ],
   "source": [
    "mydict = {1:90,2:87,3:78}\n",
    "mydict"
   ]
  },
  {
   "cell_type": "code",
   "execution_count": 1,
   "id": "9d803803",
   "metadata": {},
   "outputs": [
    {
     "name": "stdout",
     "output_type": "stream",
     "text": [
      "<class 'float'>\n"
     ]
    }
   ],
   "source": [
    "print(type(8.45))"
   ]
  },
  {
   "cell_type": "code",
   "execution_count": 2,
   "id": "7edabc57",
   "metadata": {},
   "outputs": [
    {
     "name": "stdout",
     "output_type": "stream",
     "text": [
      "5\n",
      "0\n",
      "1\n",
      "0\n",
      "1\n"
     ]
    }
   ],
   "source": [
    "list = [2, 3, 4, 5, 6, 7]\n",
    "\n",
    "for x in list:\n",
    "    if(x%2==1 and x>4):  # x%2 ==1 and x >4 (both statement must be qualified with 5)\n",
    "        print(x)\n",
    "        break\n",
    "        \n",
    "print(2%2)\n",
    "print(3%2)\n",
    "print(4%2)\n",
    "print(7%2)"
   ]
  },
  {
   "cell_type": "code",
   "execution_count": 9,
   "id": "3bdfe4e4",
   "metadata": {},
   "outputs": [
    {
     "name": "stdout",
     "output_type": "stream",
     "text": [
      "4\n"
     ]
    }
   ],
   "source": [
    "nums = list(range(5))\n",
    "print(nums[4])"
   ]
  },
  {
   "cell_type": "code",
   "execution_count": 8,
   "id": "996adcb6",
   "metadata": {},
   "outputs": [
    {
     "name": "stdout",
     "output_type": "stream",
     "text": [
      "3\n"
     ]
    }
   ],
   "source": [
    "nums = list(range(5, 8))\n",
    "print(len(nums))"
   ]
  },
  {
   "cell_type": "code",
   "execution_count": 2,
   "id": "06db6031",
   "metadata": {},
   "outputs": [
    {
     "name": "stdout",
     "output_type": "stream",
     "text": [
      "8\n"
     ]
    }
   ],
   "source": [
    "#a = int(input())\n",
    "#b = int(input())\n",
    "#your code goes here\n",
    "#year = range(a,b)\n",
    "#print(list[year])\n",
    "\n",
    "list = [1, 1, 2, 3, 5, 8, 13]\n",
    "print(list[list[4]])"
   ]
  },
  {
   "cell_type": "code",
   "execution_count": 1,
   "id": "9fe2584f",
   "metadata": {},
   "outputs": [],
   "source": [
    "'''\n",
    "for i in range(10):\n",
    "  if not i % 2 == 0:\n",
    "    print(i+1)\n",
    "'''\n",
    "while False:\n",
    "  print(\"Looping...\")"
   ]
  },
  {
   "cell_type": "code",
   "execution_count": 40,
   "id": "e4f8ebf7",
   "metadata": {},
   "outputs": [
    {
     "name": "stdout",
     "output_type": "stream",
     "text": [
      "1\n",
      "5\n",
      "7\n",
      "11\n",
      "13\n",
      "17\n",
      "19\n",
      "23\n",
      "25\n",
      "29\n",
      "31\n",
      "35\n",
      "37\n",
      "41\n",
      "43\n",
      "47\n",
      "49\n"
     ]
    }
   ],
   "source": [
    "for i in range(50):\n",
    "    if (i%3==1 or i %3 ==0) and i%2 ==0:  # 3 is missing, 25,35,49 is not prime\n",
    "        print(i+1)\n",
    "    "
   ]
  },
  {
   "cell_type": "code",
   "execution_count": null,
   "id": "fadeb7c1",
   "metadata": {},
   "outputs": [],
   "source": [
    "import pandas as pd\n",
    "print(pd.__version__)"
   ]
  },
  {
   "cell_type": "markdown",
   "id": "66066876",
   "metadata": {},
   "source": []
  },
  {
   "cell_type": "code",
   "execution_count": 49,
   "id": "95bc152e",
   "metadata": {},
   "outputs": [
    {
     "name": "stdout",
     "output_type": "stream",
     "text": [
      "0    5.8\n",
      "1    7.4\n",
      "2    9.2\n",
      "3    4.0\n",
      "dtype: float64\n"
     ]
    }
   ],
   "source": [
    "my_series = pd.Series([5.8, 7.4, 9.2,4.0])\n",
    "print(my_series)"
   ]
  },
  {
   "cell_type": "code",
   "execution_count": 50,
   "id": "1a566634",
   "metadata": {},
   "outputs": [
    {
     "name": "stdout",
     "output_type": "stream",
     "text": [
      "[5.8 7.4 9.2 4. ]\n"
     ]
    }
   ],
   "source": [
    "print(my_series.values)  # can also be check with values creates without keys"
   ]
  },
  {
   "cell_type": "code",
   "execution_count": 56,
   "id": "5f451793",
   "metadata": {},
   "outputs": [
    {
     "data": {
      "text/plain": [
       "'Copenhagen'"
      ]
     },
     "execution_count": 56,
     "metadata": {},
     "output_type": "execute_result"
    }
   ],
   "source": [
    "country_capitals = {'Albania' : 'Tirana','Bhutan' :'Thimphu','Chile':'Santiago','Denmark':'Copenhagen','Ecuador':'Quito'}\n",
    "country_capitals['Denmark']"
   ]
  },
  {
   "cell_type": "code",
   "execution_count": 58,
   "id": "193d9b46",
   "metadata": {},
   "outputs": [
    {
     "name": "stdout",
     "output_type": "stream",
     "text": [
      "  Continents                              1            2       3\n",
      "0       Asia  China,India,Thailand,Maldives      Germany  Russia\n",
      "1    Europe,  China,India,Thailand,Maldives  Netherlands  Russia\n",
      "2     Russia  China,India,Thailand,Maldives    Luxemburg  Russia\n"
     ]
    }
   ],
   "source": [
    "#arrange the data is most important to form the perfect sets\n",
    "continents = {'Continents':('Asia','Europe,','Russia'),1:('China,India,Thailand,Maldives'),\n",
    "              2:('Germany','Netherlands','Luxemburg'),3:('Russia')}\n",
    "dataFrame = pd.DataFrame(continents)\n",
    "print(dataFrame)"
   ]
  }
 ],
 "metadata": {
  "kernelspec": {
   "display_name": "Python 3 (ipykernel)",
   "language": "python",
   "name": "python3"
  },
  "language_info": {
   "codemirror_mode": {
    "name": "ipython",
    "version": 3
   },
   "file_extension": ".py",
   "mimetype": "text/x-python",
   "name": "python",
   "nbconvert_exporter": "python",
   "pygments_lexer": "ipython3",
   "version": "3.9.13"
  },
  "toc-showmarkdowntxt": true
 },
 "nbformat": 4,
 "nbformat_minor": 5
}
