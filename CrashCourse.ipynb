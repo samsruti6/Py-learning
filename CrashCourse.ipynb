{
 "cells": [
  {
   "cell_type": "markdown",
   "id": "6acc0679",
   "metadata": {},
   "source": [
    "## Data Models\n",
    "\n",
    "len(collections\n",
    "dunder methods --- __getitems__\n"
   ]
  },
  {
   "cell_type": "code",
   "execution_count": null,
   "id": "7cf96fda",
   "metadata": {},
   "outputs": [],
   "source": [
    "book = \"it have some specific things\"\n",
    "print(book.capitalize())\n",
    "print(book.upper())\n",
    "print(book.count('i'))\n",
    "print(book.split())\n",
    "print(book.title())\n",
    "print(book.lower())\n",
    "print(book.casefold())\n",
    "print(book.find('things'))\n",
    "tile = \" cooler \"\n",
    "print(tile.rstrip())\n",
    "print(tile.lstrip())\n",
    "print(f\"{book}\\' \\t {book}\")"
   ]
  },
  {
   "cell_type": "code",
   "execution_count": 1,
   "id": "e1b5fd56",
   "metadata": {},
   "outputs": [
    {
     "name": "stdout",
     "output_type": "stream",
     "text": [
      "The Zen of Python, by Tim Peters\n",
      "\n",
      "Beautiful is better than ugly.\n",
      "Explicit is better than implicit.\n",
      "Simple is better than complex.\n",
      "Complex is better than complicated.\n",
      "Flat is better than nested.\n",
      "Sparse is better than dense.\n",
      "Readability counts.\n",
      "Special cases aren't special enough to break the rules.\n",
      "Although practicality beats purity.\n",
      "Errors should never pass silently.\n",
      "Unless explicitly silenced.\n",
      "In the face of ambiguity, refuse the temptation to guess.\n",
      "There should be one-- and preferably only one --obvious way to do it.\n",
      "Although that way may not be obvious at first unless you're Dutch.\n",
      "Now is better than never.\n",
      "Although never is often better than *right* now.\n",
      "If the implementation is hard to explain, it's a bad idea.\n",
      "If the implementation is easy to explain, it may be a good idea.\n",
      "Namespaces are one honking great idea -- let's do more of those!\n"
     ]
    }
   ],
   "source": [
    "import this"
   ]
  },
  {
   "cell_type": "code",
   "execution_count": null,
   "id": "b0c75283",
   "metadata": {},
   "outputs": [],
   "source": [
    "print(this.c)\n",
    "#print(this.d)\n",
    "print(this.i)\n",
    "print(this.s)"
   ]
  },
  {
   "cell_type": "code",
   "execution_count": null,
   "id": "a07f1f55",
   "metadata": {},
   "outputs": [],
   "source": [
    "items = ['cooler','pen','pencil','book','drum','vessel']\n",
    "items.append('wire')\n",
    "items\n",
    "items[3:]\n",
    "items[-1:]"
   ]
  },
  {
   "cell_type": "code",
   "execution_count": null,
   "id": "cad17066",
   "metadata": {},
   "outputs": [],
   "source": [
    "items[-5:]"
   ]
  },
  {
   "cell_type": "code",
   "execution_count": null,
   "id": "3a52eb1e",
   "metadata": {},
   "outputs": [],
   "source": [
    "i_pop = items.pop(2)\n",
    "#items\n",
    "print(\"popped item\" + i_pop)"
   ]
  },
  {
   "cell_type": "markdown",
   "id": "78c2a03e",
   "metadata": {},
   "source": [
    "#### Rectify below code, list must come 1 by 1"
   ]
  },
  {
   "cell_type": "code",
   "execution_count": 5,
   "id": "67c05dab",
   "metadata": {},
   "outputs": [
    {
     "name": "stdout",
     "output_type": "stream",
     "text": [
      "<class 'str'>\n",
      "['Shyam', 'Radha', 'Gopal', 'Akesh', 'Kabir']\n",
      "<class 'list'>\n",
      "Shyam\n",
      "Radha\n",
      "Gopal\n",
      "Akesh\n",
      "Kabir\n"
     ]
    }
   ],
   "source": [
    "guest_names = (\"Shyam Radha Gopal\")\n",
    "print(type(guest_names))\n",
    "list_name = guest_names.split()\n",
    "list_name.append(\"Kabir\")\n",
    "list_name.insert(3, \"Akesh\")\n",
    "#print(list_name.remove(\"Mano\"))\n",
    "print(list_name)\n",
    "\n",
    "print(type(list_name))\n",
    "\n",
    "\n",
    "for j in list_name:\n",
    "    print(j)\n",
    "\n",
    "    "
   ]
  },
  {
   "cell_type": "code",
   "execution_count": null,
   "id": "0d52dbc8",
   "metadata": {},
   "outputs": [],
   "source": [
    "print(list_name.index(\"Gopal\"))\n",
    "print(len(list_name))\n",
    "print(list_name[2])\n",
    "\n",
    "list_name.reverse()\n",
    "print(list_name)\n",
    "\n",
    "list_name.sort()\n",
    "print(list_name)\n",
    "\n",
    "list_name.reverse()\n",
    "print(list_name)"
   ]
  },
  {
   "cell_type": "code",
   "execution_count": null,
   "id": "405f91e8",
   "metadata": {},
   "outputs": [],
   "source": [
    "\n",
    "print(list_name[::2])"
   ]
  },
  {
   "cell_type": "code",
   "execution_count": null,
   "id": "2a3513d8",
   "metadata": {},
   "outputs": [],
   "source": [
    "list_name.remove(\"Radha\")\n",
    "list_name"
   ]
  },
  {
   "cell_type": "code",
   "execution_count": null,
   "id": "106932b2",
   "metadata": {},
   "outputs": [],
   "source": [
    "list_name.clear()\n",
    "\n",
    "list_name"
   ]
  },
  {
   "cell_type": "code",
   "execution_count": null,
   "id": "83decd07",
   "metadata": {},
   "outputs": [],
   "source": [
    "print(list(range(1,6,2)))"
   ]
  },
  {
   "cell_type": "code",
   "execution_count": null,
   "id": "44c2cf3c",
   "metadata": {},
   "outputs": [],
   "source": [
    "boxes = []\n",
    "for nums in range(7):\n",
    "        box = nums**2\n",
    "        boxes.append(box)\n",
    "    \n",
    "print(boxes)"
   ]
  },
  {
   "cell_type": "code",
   "execution_count": null,
   "id": "82d2bcd3",
   "metadata": {},
   "outputs": [],
   "source": [
    "boxes = [num**2 for num in range(1,8)]\n",
    "boxes"
   ]
  },
  {
   "cell_type": "code",
   "execution_count": null,
   "id": "87d4d468",
   "metadata": {},
   "outputs": [],
   "source": [
    "num_list = (8,98,34,67465,2435,88924,34643948,987878)\n",
    "mini = min(num_list)\n",
    "mini\n",
    "maxi = max(num_list)\n",
    "maxi"
   ]
  },
  {
   "cell_type": "code",
   "execution_count": null,
   "id": "ccfec487",
   "metadata": {},
   "outputs": [],
   "source": [
    "print(list(range(1,20,2)))\n",
    "    "
   ]
  },
  {
   "cell_type": "code",
   "execution_count": null,
   "id": "c570a6b8",
   "metadata": {},
   "outputs": [],
   "source": [
    "three_mul = []\n",
    "for val in range(3,30):\n",
    "    val = val*3\n",
    "    three_mul.append(val)\n",
    "three_mul"
   ]
  },
  {
   "cell_type": "code",
   "execution_count": null,
   "id": "41c16c6a",
   "metadata": {},
   "outputs": [],
   "source": [
    "cube_num = [value**3 for value in range(1,11)]\n",
    "cube_num"
   ]
  },
  {
   "cell_type": "code",
   "execution_count": null,
   "id": "012e9089",
   "metadata": {},
   "outputs": [],
   "source": [
    "for i in range(1,11):\n",
    "    value = i**3\n",
    "    print(f\"{i}\\'cube is {value}\")\n",
    "    \n",
    "print(\"its the end\")"
   ]
  },
  {
   "cell_type": "code",
   "execution_count": null,
   "id": "8f913041",
   "metadata": {},
   "outputs": [],
   "source": [
    "original_list = [\"taste\",\"occupancy\",\"timber\",\"land\"]\n",
    "\n",
    "copying_list = original_list[:]\n",
    "original_list.append(\"blanket\")\n",
    "copying_list"
   ]
  },
  {
   "cell_type": "code",
   "execution_count": null,
   "id": "859e53df",
   "metadata": {},
   "outputs": [],
   "source": [
    "original_list[:3]"
   ]
  },
  {
   "cell_type": "code",
   "execution_count": null,
   "id": "66425c38",
   "metadata": {},
   "outputs": [],
   "source": [
    "original_list[1:4]"
   ]
  },
  {
   "cell_type": "code",
   "execution_count": null,
   "id": "51afe4a2",
   "metadata": {},
   "outputs": [],
   "source": [
    "original_list[-3:]"
   ]
  },
  {
   "cell_type": "code",
   "execution_count": null,
   "id": "a100d9fc",
   "metadata": {},
   "outputs": [],
   "source": [
    "for values in copying_list:\n",
    "    print(f\"{values}\")"
   ]
  },
  {
   "cell_type": "code",
   "execution_count": null,
   "id": "bc3b7878",
   "metadata": {},
   "outputs": [],
   "source": [
    "for values in original_list:\n",
    "    print(f\"{values}\")"
   ]
  },
  {
   "cell_type": "code",
   "execution_count": 5,
   "id": "1174f2ad",
   "metadata": {},
   "outputs": [
    {
     "name": "stdout",
     "output_type": "stream",
     "text": [
      "dosa\n",
      "idly\n",
      "vada\n",
      "poori\n",
      "bonda\n"
     ]
    }
   ],
   "source": [
    "buffet = (\"dosa\",\"idly\",\"vada\",\"poori\",\"bonda\")\n",
    "for x in buffet:\n",
    "    print(x)"
   ]
  },
  {
   "cell_type": "code",
   "execution_count": null,
   "id": "66c6a94b",
   "metadata": {},
   "outputs": [],
   "source": [
    "buffet = (\"upma\",\"bajji\",\"vada\",\"poori\",\"bonda\")\n",
    "buffet"
   ]
  },
  {
   "cell_type": "code",
   "execution_count": null,
   "id": "142df1d5",
   "metadata": {},
   "outputs": [],
   "source": [
    "print(True + True)\n",
    "print(True + False)\n",
    "print(False + False + True * 2 + 3)\n",
    "print(not False and True)"
   ]
  },
  {
   "cell_type": "code",
   "execution_count": null,
   "id": "0173a5e9",
   "metadata": {},
   "outputs": [],
   "source": [
    "items = [\"towel\",'fan',\"chappal\"]\n",
    "\"Fan\" not in items"
   ]
  },
  {
   "cell_type": "code",
   "execution_count": null,
   "id": "c0016736",
   "metadata": {},
   "outputs": [],
   "source": [
    "only_admin = [\"admin\"]\n",
    "names = ['admin',\"ella\",\"browny\",\"king\",\"stan\"]\n",
    "emp_list = []\n",
    "for names in names:\n",
    "    if names in only_admin:\n",
    "        print(f\"Hello {only_admin}, would you like to see reports\")\n",
    "    if names not in emp_list:\n",
    "        print(\"We need to find users\")\n",
    "    else:\n",
    "        print(f\"Hello {names}\")"
   ]
  },
  {
   "cell_type": "code",
   "execution_count": null,
   "id": "5ba4920f",
   "metadata": {},
   "outputs": [],
   "source": [
    "for x in range(1,10):\n",
    "    if x == 1:\n",
    "        print(f\"{x}st\")\n",
    "    if x ==2:\n",
    "        print(f\"{x}nd\")\n",
    "    if x == 3:\n",
    "        print(f\"{x}rd\")\n",
    "    elif x > 3:\n",
    "        print(f\"{x}th\")\n",
    "\n"
   ]
  },
  {
   "cell_type": "markdown",
   "id": "b4f5d1f2",
   "metadata": {},
   "source": [
    "#### Dict"
   ]
  },
  {
   "cell_type": "code",
   "execution_count": null,
   "id": "70c8f3ff",
   "metadata": {},
   "outputs": [],
   "source": [
    "directions = {}"
   ]
  },
  {
   "cell_type": "code",
   "execution_count": null,
   "id": "498ea149",
   "metadata": {},
   "outputs": [],
   "source": [
    "directions[\"North\"] = 90"
   ]
  },
  {
   "cell_type": "code",
   "execution_count": null,
   "id": "184f0d7d",
   "metadata": {},
   "outputs": [],
   "source": [
    "directions[\"South\"] = 180\n",
    "directions[\"West\"] = 360\n",
    "directions[\"East\"] = 0"
   ]
  },
  {
   "cell_type": "code",
   "execution_count": null,
   "id": "6737e540",
   "metadata": {},
   "outputs": [],
   "source": [
    "print(directions)"
   ]
  },
  {
   "cell_type": "code",
   "execution_count": null,
   "id": "bbebc994",
   "metadata": {},
   "outputs": [],
   "source": [
    "directions.keys()"
   ]
  },
  {
   "cell_type": "code",
   "execution_count": null,
   "id": "54a59f63",
   "metadata": {},
   "outputs": [],
   "source": [
    "directions.items()"
   ]
  },
  {
   "cell_type": "code",
   "execution_count": null,
   "id": "e2b2495b",
   "metadata": {},
   "outputs": [],
   "source": [
    "directions.values()"
   ]
  },
  {
   "cell_type": "code",
   "execution_count": null,
   "id": "83278000",
   "metadata": {},
   "outputs": [],
   "source": [
    "directions[\"North\"] = 60\n",
    "print(directions)"
   ]
  },
  {
   "cell_type": "code",
   "execution_count": 1,
   "id": "8aec4196",
   "metadata": {},
   "outputs": [
    {
     "data": {
      "text/plain": [
       "{'f_name': 'Sudhash',\n",
       " 'l_name': 'Kailesh',\n",
       " 'age': 38,\n",
       " 'city': 'Tokyo',\n",
       " 'year': 2020}"
      ]
     },
     "execution_count": 1,
     "metadata": {},
     "output_type": "execute_result"
    }
   ],
   "source": [
    "person = {'f_name' : \"Sudhash\",\n",
    "          'l_name' : \"Kailesh\",\n",
    "          'age' : 38,\n",
    "          'city' : \"Tokyo\",\n",
    "          'year' : 2020,\n",
    "         }\n",
    "\n",
    "person"
   ]
  },
  {
   "cell_type": "code",
   "execution_count": 8,
   "id": "27820be0",
   "metadata": {},
   "outputs": [
    {
     "data": {
      "text/plain": [
       "{'f_name': 'Sudhash',\n",
       " 'l_name': 'Kailesh',\n",
       " 'age': 42,\n",
       " 'city': 'Tokyo',\n",
       " 'year': 2020}"
      ]
     },
     "execution_count": 8,
     "metadata": {},
     "output_type": "execute_result"
    }
   ],
   "source": [
    "if person['year'] == 2020:\n",
    "    x_inc = 4\n",
    "    \n",
    "person['age'] = person['age'] + x_inc\n",
    "person"
   ]
  },
  {
   "cell_type": "code",
   "execution_count": 2,
   "id": "6608bba6",
   "metadata": {},
   "outputs": [
    {
     "name": "stdout",
     "output_type": "stream",
     "text": [
      "\n",
      "Key :f_name\n",
      "Value :Sudhash\n",
      "\n",
      "Key :l_name\n",
      "Value :Kailesh\n",
      "\n",
      "Key :age\n",
      "Value :38\n",
      "\n",
      "Key :city\n",
      "Value :Tokyo\n",
      "\n",
      "Key :year\n",
      "Value :2020\n"
     ]
    }
   ],
   "source": [
    "for key ,value in person.items():\n",
    "    print(\"\\nKey :\" + key)\n",
    "    print(\"Value :\" + str(value))"
   ]
  },
  {
   "cell_type": "code",
   "execution_count": 1,
   "id": "4f271a4a",
   "metadata": {},
   "outputs": [],
   "source": [
    "fav_lang = {\n",
    "    \"shiv\" : \"R\",\n",
    "    \"Bhirav\" : \"DSA\",\n",
    "    \"Kailash\" : \"Ruby\",\n",
    "    \"Subash\" : \"Python\",\n",
    "    \"Radha\" : \"Julia\",\n",
    "    \"shyam\" : \"R\"\n",
    "    }\n",
    "\n"
   ]
  },
  {
   "cell_type": "code",
   "execution_count": 2,
   "id": "4e4db5a2",
   "metadata": {},
   "outputs": [
    {
     "name": "stdout",
     "output_type": "stream",
     "text": [
      "SHIV likes R\n",
      "BHIRAV likes Dsa\n",
      "KAILASH likes Ruby\n",
      "SUBASH likes Python\n",
      "RADHA likes Julia\n",
      "SHYAM likes R\n"
     ]
    }
   ],
   "source": [
    "for names, lang in fav_lang.items():\n",
    "    print(names.upper(), \"likes\", lang.title())"
   ]
  },
  {
   "cell_type": "code",
   "execution_count": 8,
   "id": "ef8cca0c",
   "metadata": {},
   "outputs": [
    {
     "name": "stdout",
     "output_type": "stream",
     "text": [
      "SHIV\n",
      "BHIRAV\n",
      "KAILASH\n",
      "Hi  KAILASH you r here with Ruby\n",
      "SUBASH\n",
      "Hi  SUBASH you r here with Python\n",
      "RADHA\n",
      "SHYAM\n"
     ]
    }
   ],
   "source": [
    "naam = ['Kailash','Subash']\n",
    "for names in fav_lang.keys():\n",
    "    print(names.upper())\n",
    "    if names in naam:\n",
    "        print(\"Hi \",names.upper(), \"you r here with\", fav_lang[names].title())"
   ]
  },
  {
   "cell_type": "code",
   "execution_count": 10,
   "id": "97f46809",
   "metadata": {},
   "outputs": [
    {
     "name": "stdout",
     "output_type": "stream",
     "text": [
      "not exists\n"
     ]
    }
   ],
   "source": [
    "if \"saty\" in fav_lang.keys():\n",
    "    print(\"Make a poll\")\n",
    "else:\n",
    "    print(\"not exists\")"
   ]
  },
  {
   "cell_type": "code",
   "execution_count": 28,
   "id": "323a45a9",
   "metadata": {},
   "outputs": [
    {
     "name": "stdout",
     "output_type": "stream",
     "text": [
      "Bhirav\n",
      "Kailash\n",
      "Radha\n",
      "Subash\n",
      "Shiv\n"
     ]
    }
   ],
   "source": [
    "for names in sorted(fav_lang.keys()):\n",
    "    print(names.title())"
   ]
  },
  {
   "cell_type": "code",
   "execution_count": 11,
   "id": "d78c3b44",
   "metadata": {},
   "outputs": [
    {
     "name": "stdout",
     "output_type": "stream",
     "text": [
      "DSA\n",
      "Julia\n",
      "Python\n",
      "R\n",
      "R\n",
      "Ruby\n"
     ]
    }
   ],
   "source": [
    "for names in sorted(fav_lang.values()):\n",
    "    print(names)"
   ]
  },
  {
   "cell_type": "code",
   "execution_count": 36,
   "id": "f925913c",
   "metadata": {},
   "outputs": [
    {
     "name": "stdout",
     "output_type": "stream",
     "text": [
      "Ruby\n",
      "R\n",
      "Julia\n",
      "DSA\n",
      "Python\n"
     ]
    }
   ],
   "source": [
    "for names in set(fav_lang.values()):\n",
    "    print(names)"
   ]
  },
  {
   "cell_type": "code",
   "execution_count": 8,
   "id": "44b9023d",
   "metadata": {},
   "outputs": [
    {
     "name": "stdout",
     "output_type": "stream",
     "text": [
      "{'zomato': 'Red', 'pts': 3}\n",
      "{'swiggy': 'orange', 'pts': 4}\n",
      "{'bb': 'yellow', 'pts': 4}\n"
     ]
    }
   ],
   "source": [
    "site_0 = {\"zomato\": 'Red', 'pts' : 3}\n",
    "site_1 = {'swiggy': \"orange\", 'pts' : 4}\n",
    "site_2 = {'bb' : 'yellow', 'pts' : 4}\n",
    "\n",
    "sites = [site_0,site_1,site_2]\n",
    "\n",
    "for site in sites:\n",
    "    print(site)"
   ]
  },
  {
   "cell_type": "code",
   "execution_count": 7,
   "id": "0940d99f",
   "metadata": {},
   "outputs": [],
   "source": [
    "? str"
   ]
  },
  {
   "cell_type": "code",
   "execution_count": 7,
   "id": "0c757064",
   "metadata": {},
   "outputs": [
    {
     "name": "stdout",
     "output_type": "stream",
     "text": [
      "{'swiggy': 'green', 'pts': 7, 'min': 10}\n",
      "{'swiggy': 'green', 'pts': 7, 'min': 10}\n",
      "{'swiggy': 'yellow', 'pts': 4, 'min': 15}\n",
      "{'swiggy': 'yellow', 'pts': 4, 'min': 15}\n",
      "{'swiggy': 'yellow', 'pts': 4, 'min': 15}\n",
      "********\n",
      "{'zomo': 'red', 'pts': 3, 'min': 30}\n",
      "{'zomo': 'red', 'pts': 3, 'min': 30}\n",
      "************\n",
      "15\n",
      "7\n"
     ]
    }
   ],
   "source": [
    "sites_orange = []\n",
    "sites_red = []\n",
    "\n",
    "#make 30 orange sites\n",
    "for site_color in range(15):\n",
    "    new_site_orange = {'swiggy' : \"yellow\", \"pts\" : 4, 'min' : 15}\n",
    "    sites_orange.append(new_site_orange)\n",
    "\n",
    "    \n",
    "for site_color_orange in sites_orange[0:2]:\n",
    "    if site_color_orange['swiggy'] == 'orange':\n",
    "        site_color_orange['swiggy'] = 'yellow' \n",
    "        site_color_orange['pts'] = 5\n",
    "        site_color_orange['min'] = 12\n",
    "    elif site_color_orange['swiggy'] == 'yellow':\n",
    "        site_color_orange['swiggy'] = 'green'\n",
    "        site_color_orange['pts'] = 7\n",
    "        site_color_orange['min'] = 10\n",
    "    \n",
    "    \n",
    "for site_color_red in range(7):\n",
    "    new_site_red = {'zomo' : 'red','pts':3, 'min' : 30}\n",
    "    sites_red.append(new_site_red)\n",
    "\n",
    "#show the 1st 5 sites\n",
    "for site_color_orange in sites_orange[0:5]:\n",
    "    print(site_color_orange)\n",
    "print(\"********\")\n",
    "\n",
    "for site_color_red in sites_red[:2]:\n",
    "    print(site_color_red)\n",
    "print(\"************\")\n",
    "\n",
    "#show how many sites are added\n",
    "print(str(len(sites_orange)))    \n",
    "print(len(sites_red))"
   ]
  },
  {
   "cell_type": "code",
   "execution_count": 9,
   "id": "ab7b6b12",
   "metadata": {},
   "outputs": [
    {
     "name": "stdout",
     "output_type": "stream",
     "text": [
      "cooking maggie is perfect also having topping:\n",
      "tomato\n",
      "onion\n",
      "garlic\n"
     ]
    }
   ],
   "source": [
    "maggie = {\n",
    "    'cooked' : 'perfect',\n",
    "    'topping' : ['tomato', 'onion','garlic'],\n",
    "    }\n",
    "\n",
    "print(\"cooking maggie is\", maggie['cooked'], \"also having topping:\")\n",
    "for tops in maggie['topping']:\n",
    "    print(tops)"
   ]
  },
  {
   "cell_type": "code",
   "execution_count": 15,
   "id": "541ece6b",
   "metadata": {},
   "outputs": [
    {
     "name": "stdout",
     "output_type": "stream",
     "text": [
      "Shiv with languages\n",
      "R\n",
      "1\n",
      "PYTHON\n",
      "6\n",
      "Bhirav with languages\n",
      "DSA\n",
      "3\n",
      "JULIA\n",
      "5\n",
      "Kailash with languages\n",
      "RUBY\n",
      "4\n",
      "DSA\n",
      "3\n",
      "Subash with languages\n",
      "PYTHON\n",
      "6\n",
      "Radha with languages\n",
      "JULIA\n",
      "5\n",
      "Shyam with languages\n",
      "R\n",
      "1\n"
     ]
    }
   ],
   "source": [
    "fav_lang = {\n",
    "    \"shiv\" : [\"R\",'python'],\n",
    "    \"Bhirav\" : [\"DSA\", 'julia'],\n",
    "    \"Kailash\" : [\"Ruby\", 'DSA'],\n",
    "    \"Subash\" : [\"Python\"],\n",
    "    \"Radha\" : [\"Julia\"],\n",
    "    \"shyam\" : [\"R\"]\n",
    "    }\n",
    "\n",
    "for names, languages in fav_lang.items():\n",
    "    print(names.title(), \"with languages\")\n",
    "    for language in languages:\n",
    "        print(language.upper())\n",
    "        print(str(len(language)))\n"
   ]
  },
  {
   "cell_type": "code",
   "execution_count": 1,
   "id": "abef73cd",
   "metadata": {},
   "outputs": [
    {
     "data": {
      "text/plain": [
       "'D:\\\\Py_notebooks'"
      ]
     },
     "execution_count": 1,
     "metadata": {},
     "output_type": "execute_result"
    }
   ],
   "source": [
    "pwd"
   ]
  },
  {
   "cell_type": "code",
   "execution_count": null,
   "id": "37f993e2",
   "metadata": {},
   "outputs": [],
   "source": [
    "? pwd"
   ]
  },
  {
   "cell_type": "code",
   "execution_count": 1,
   "id": "e0e80714",
   "metadata": {},
   "outputs": [],
   "source": [
    "locations = {'india' : {\n",
    "    'capital' : 'delhi',\n",
    "    'state' : 'uttar pradesh',\n",
    "    'pm' :'modi',\n",
    "    },\n",
    "             'uae':{\n",
    "                 'capital' : 'qatar',\n",
    "                 'state' : 'saudi',\n",
    "                 'pm' : 'zayed',\n",
    "             }\n",
    "    }"
   ]
  },
  {
   "cell_type": "code",
   "execution_count": null,
   "id": "2c66f896",
   "metadata": {},
   "outputs": [],
   "source": [
    "for info,info_loc in locations.items():\n",
    "    print(info)\n",
    "    states_cap = info_loc['state'] +\" \" + info_loc['capital']\n",
    "    sta_pm = info_loc['pm']\n",
    "    \n",
    "    print(\"\\t\" + states_cap.title())\n",
    "    print(\"\\t\" + sta_pm.title())"
   ]
  },
  {
   "cell_type": "code",
   "execution_count": 1,
   "id": "7a8bf3df",
   "metadata": {},
   "outputs": [
    {
     "name": "stdout",
     "output_type": "stream",
     "text": [
      "please enter the book name : smart notes\n",
      "I enjoy this book smart notes\n",
      "please enter the book name : quit\n"
     ]
    }
   ],
   "source": [
    "message = \"please enter the book name : \"\n",
    "#print(message)\n",
    "\n",
    "while True:\n",
    "    name = input(message)\n",
    "    \n",
    "    if name == 'quit':\n",
    "        break\n",
    "    else:\n",
    "        print(\"I enjoy this book\",name)\n"
   ]
  },
  {
   "cell_type": "code",
   "execution_count": 4,
   "id": "0470f5b9",
   "metadata": {},
   "outputs": [
    {
     "name": "stdout",
     "output_type": "stream",
     "text": [
      "2\n",
      "4\n",
      "6\n",
      "8\n",
      "10\n",
      "12\n",
      "14\n",
      "16\n",
      "18\n",
      "20\n"
     ]
    }
   ],
   "source": [
    "num = 0 \n",
    "while num < 20:\n",
    "    num += 1\n",
    "    if num % 2 == 1:\n",
    "        continue\n",
    "        \n",
    "    print(num)"
   ]
  },
  {
   "cell_type": "code",
   "execution_count": 7,
   "id": "1a08c23b",
   "metadata": {},
   "outputs": [
    {
     "name": "stdout",
     "output_type": "stream",
     "text": [
      "Bob\n",
      "Hitler\n",
      "Jack\n",
      "Stalin\n"
     ]
    }
   ],
   "source": [
    "unconfirm_users = [\"bob\",\"hitler\",\"stalin\",\"jack\"]\n",
    "confirm_users = []\n",
    "\n",
    "while unconfirm_users:\n",
    "    verify_user = unconfirm_users.pop()\n",
    "    confirm_users.append(verify_user.title())\n",
    "    \n",
    "for confirmed in sorted(confirm_users):\n",
    "    print(confirmed)"
   ]
  },
  {
   "cell_type": "code",
   "execution_count": 14,
   "id": "435d7116",
   "metadata": {},
   "outputs": [
    {
     "name": "stdout",
     "output_type": "stream",
     "text": [
      "1.5\n",
      "2\n"
     ]
    }
   ],
   "source": [
    "def rounding_ex(n):\n",
    "    if n - int(n) != 0.5:\n",
    "        return int(n) + 1\n",
    "    print(n)\n",
    "    return (n)\n",
    "\n",
    "ex_num = 1.5\n",
    "round_num = rounding_ex(ex_num)\n",
    "print(round_num)"
   ]
  },
  {
   "cell_type": "code",
   "execution_count": 12,
   "id": "e7012986",
   "metadata": {},
   "outputs": [
    {
     "name": "stdout",
     "output_type": "stream",
     "text": [
      "I have a pet john & name is doll\n",
      "I have a pet doggy & name is dog\n"
     ]
    }
   ],
   "source": [
    "def choose_pet(i,j):\n",
    "    print(f\"I have a pet {i} & name is {j}\")\n",
    "        \n",
    "choose_pet('john','doll')\n",
    "choose_pet('doggy','dog')"
   ]
  },
  {
   "cell_type": "code",
   "execution_count": 17,
   "id": "28044909",
   "metadata": {},
   "outputs": [
    {
     "name": "stdout",
     "output_type": "stream",
     "text": [
      "Hi  lucky\n",
      "I have a pet harry & name is cat\n",
      "I have a pet john & name is dog\n",
      "I have a pet dolly & name is rabbit\n",
      "Hi  jose\n",
      "I have a pet harry & name is cat\n",
      "I have a pet john & name is dog\n",
      "I have a pet dolly & name is rabbit\n",
      "Hi  don\n",
      "I have a pet harry & name is cat\n",
      "I have a pet john & name is dog\n",
      "I have a pet dolly & name is rabbit\n"
     ]
    }
   ],
   "source": [
    "names = ['lucky','jose','don']\n",
    "pet_names = ['harry','john','dolly']\n",
    "pets = ['cat','dog','rabbit']\n",
    "for i in names:\n",
    "    print(\"Hi \",i)\n",
    "    for (j,k) in zip(pet_names,pets):\n",
    "        choose_pet(j,k)\n",
    "    #for k in pets:\n",
    "        "
   ]
  },
  {
   "cell_type": "code",
   "execution_count": 6,
   "id": "2002bb21",
   "metadata": {},
   "outputs": [],
   "source": [
    "import math"
   ]
  },
  {
   "cell_type": "code",
   "execution_count": 7,
   "id": "b5d97681",
   "metadata": {},
   "outputs": [
    {
     "data": {
      "text/plain": [
       "6.643856189774724"
      ]
     },
     "execution_count": 7,
     "metadata": {},
     "output_type": "execute_result"
    }
   ],
   "source": [
    "math.log2(256)\n",
    "math.log2(100)"
   ]
  },
  {
   "cell_type": "code",
   "execution_count": 5,
   "id": "ca97db1a",
   "metadata": {},
   "outputs": [
    {
     "data": {
      "text/plain": [
       "256"
      ]
     },
     "execution_count": 5,
     "metadata": {},
     "output_type": "execute_result"
    }
   ],
   "source": [
    "128 * 2"
   ]
  },
  {
   "cell_type": "code",
   "execution_count": 17,
   "id": "1da63102",
   "metadata": {},
   "outputs": [
    {
     "name": "stdout",
     "output_type": "stream",
     "text": [
      "9\n",
      "it is not present in the array\n"
     ]
    }
   ],
   "source": [
    "def binary_search(arr, item):\n",
    "    low = 0\n",
    "    high = len(arr) - 1\n",
    "    \n",
    "    while low <= high:\n",
    "        mid = (low + high) // 2\n",
    "        guess = arr[mid]\n",
    "        if guess < item:\n",
    "            low = mid + 1\n",
    "        elif guess > item:\n",
    "            high = mid - 1\n",
    "        else:\n",
    "            return mid\n",
    "    return -1\n",
    "            \n",
    "    \n",
    "sample_list = [0,3,4,5,7,8,12,14,15,17,18,23,25]\n",
    "guess_item = int(input())\n",
    "result = binary_search(sample_list,guess_item)\n",
    "\n",
    "#print(binary_search(sample_list,-1))\n",
    "#print(binary_search(sample_list,15))\n",
    "\n",
    "if result != -1:\n",
    "    print(\"the array place is\",str(result))\n",
    "else:\n",
    "    print(\"it is not present in the array\")"
   ]
  },
  {
   "cell_type": "code",
   "execution_count": 18,
   "id": "3fa5c009",
   "metadata": {},
   "outputs": [
    {
     "name": "stdout",
     "output_type": "stream",
     "text": [
      "1990 is False False\n",
      "1984 is True True\n",
      "2000 is True True\n",
      "2002 is False False\n"
     ]
    }
   ],
   "source": [
    "year = (1990,1984,2000,2002)\n",
    "for y in year:\n",
    "    if y % 4 != 0:\n",
    "        print(f\"{y} is False\",False)\n",
    "    elif y % 100 != 0:\n",
    "        print(f\"{y} is True\",True)\n",
    "    elif y % 400 != 0:\n",
    "        print(f\"{y} is False\",False)\n",
    "    else:\n",
    "        print(f\"{y} is True\",True)\n",
    "    \n"
   ]
  },
  {
   "cell_type": "code",
   "execution_count": 22,
   "id": "37a68459",
   "metadata": {},
   "outputs": [
    {
     "name": "stdout",
     "output_type": "stream",
     "text": [
      "2\n",
      "<class 'bool'>\n"
     ]
    }
   ],
   "source": [
    "print(2002 % 400)\n",
    "print(True)"
   ]
  },
  {
   "cell_type": "code",
   "execution_count": 37,
   "id": "57a6a51b",
   "metadata": {},
   "outputs": [
    {
     "name": "stdout",
     "output_type": "stream",
     "text": [
      "0\n",
      "1\n",
      "3\n",
      "6\n",
      "10\n",
      "10\n"
     ]
    }
   ],
   "source": [
    "x = (1,2,3,4,5)\n",
    "sum = 0 \n",
    "for y in x:\n",
    "    if y > 0:\n",
    "        y = y - 1\n",
    "        sum =sum + y\n",
    "        print(sum)\n",
    "print(sum)\n",
    "    #print(x)\n",
    "    \n"
   ]
  },
  {
   "cell_type": "code",
   "execution_count": 41,
   "id": "815c31bb",
   "metadata": {},
   "outputs": [
    {
     "name": "stdout",
     "output_type": "stream",
     "text": [
      "0\n",
      "1\n",
      "4\n",
      "9\n",
      "16\n",
      "25\n",
      "36\n",
      "49\n",
      "64\n",
      "81\n",
      "11\n"
     ]
    }
   ],
   "source": [
    "for n in range(10):\n",
    "    res = n * n\n",
    "    print(res)\n",
    "    n += 2\n",
    "    #print(n)\n",
    "print(n)"
   ]
  },
  {
   "cell_type": "code",
   "execution_count": 50,
   "id": "f94b5976",
   "metadata": {},
   "outputs": [
    {
     "name": "stdout",
     "output_type": "stream",
     "text": [
      "maxNum is  2\n",
      "maxNum is  5\n",
      "maxNum is  7\n",
      "maxNum is  8\n",
      "maxNum is  12\n",
      "maxNum is  15\n",
      "maxNum is  17\n",
      "min is  2\n",
      "max is  17\n"
     ]
    }
   ],
   "source": [
    "maxNum = -1\n",
    "ran = (2,5,7,8,12,15,17)\n",
    "for n in ran:\n",
    "    if n > maxNum:\n",
    "        #print(n)\n",
    "        maxNum = n\n",
    "        print(\"maxNum is \",maxNum)\n",
    "        \n",
    "print(\"min is \",min(ran))\n",
    "print(\"max is \",max(ran))\n"
   ]
  },
  {
   "cell_type": "code",
   "execution_count": 59,
   "id": "71d3273b",
   "metadata": {},
   "outputs": [
    {
     "data": {
      "text/plain": [
       "6"
      ]
     },
     "execution_count": 59,
     "metadata": {},
     "output_type": "execute_result"
    }
   ],
   "source": [
    "def cal_fact(n): \n",
    "    \n",
    "    for i in range(1,n+1):\n",
    "        fact = 1\n",
    "        fact = fact * i\n",
    "               \n",
    "    return fact\n",
    "\n",
    "cal_fact(6)"
   ]
  },
  {
   "cell_type": "code",
   "execution_count": 60,
   "id": "070892c0",
   "metadata": {},
   "outputs": [
    {
     "data": {
      "text/plain": [
       "40320"
      ]
     },
     "execution_count": 60,
     "metadata": {},
     "output_type": "execute_result"
    }
   ],
   "source": [
    "def factorial(n):\n",
    "    if n == 1:\n",
    "        return n\n",
    "    else:\n",
    "        return n * fac(n-1)\n",
    "\n",
    "factorial(8)"
   ]
  },
  {
   "cell_type": "code",
   "execution_count": 4,
   "id": "c9073275",
   "metadata": {},
   "outputs": [
    {
     "name": "stdout",
     "output_type": "stream",
     "text": [
      "5\n",
      "fibo series\n",
      "0\n",
      "1\n",
      "1\n",
      "2\n",
      "3\n"
     ]
    },
    {
     "data": {
      "text/plain": [
       "2"
      ]
     },
     "execution_count": 4,
     "metadata": {},
     "output_type": "execute_result"
    }
   ],
   "source": [
    "def fibo(n):\n",
    "    if n <= 1:\n",
    "        return n\n",
    "    else:\n",
    "        return (fibo(n-1) + fibo(n-2))\n",
    "n = int(input())\n",
    "if n <= 0 :\n",
    "    print(\"normal integers\")\n",
    "else:\n",
    "    print(\"fibo series\")\n",
    "    for i in range(n):\n",
    "        print(fibo(i))\n",
    "\n",
    "        \n",
    "fibo(3)        "
   ]
  }
 ],
 "metadata": {
  "kernelspec": {
   "display_name": "Python 3 (ipykernel)",
   "language": "python",
   "name": "python3"
  },
  "language_info": {
   "codemirror_mode": {
    "name": "ipython",
    "version": 3
   },
   "file_extension": ".py",
   "mimetype": "text/x-python",
   "name": "python",
   "nbconvert_exporter": "python",
   "pygments_lexer": "ipython3",
   "version": "3.9.13"
  }
 },
 "nbformat": 4,
 "nbformat_minor": 5
}
