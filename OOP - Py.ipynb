{
 "cells": [
  {
   "cell_type": "markdown",
   "id": "52f21d8a",
   "metadata": {},
   "source": [
    "### OOD\n",
    "\n",
    "\n",
    "* Objects naming as nouns while methods as verbs; attributes often pickedup as adjectives.\n",
    "1. Abtstraction\n",
    "2. Encapsulation\n",
    "3. Inheritence\n",
    "4. Polymorphism\n"
   ]
  },
  {
   "cell_type": "code",
   "execution_count": 1,
   "id": "f9eca137",
   "metadata": {},
   "outputs": [
    {
     "name": "stdout",
     "output_type": "stream",
     "text": [
      "1 0\n"
     ]
    }
   ],
   "source": [
    "class Cooler:\n",
    "    def coolness(self):\n",
    "        self.on = 1\n",
    "        self.off = 0\n",
    "        \n",
    "c = Cooler()\n",
    "c.coolness()\n",
    "print(c.on,c.off)"
   ]
  },
  {
   "cell_type": "code",
   "execution_count": 13,
   "id": "2808f09c",
   "metadata": {},
   "outputs": [],
   "source": [
    "import math"
   ]
  },
  {
   "cell_type": "code",
   "execution_count": 15,
   "id": "787a1bbd",
   "metadata": {},
   "outputs": [
    {
     "name": "stdout",
     "output_type": "stream",
     "text": [
      "5.0\n",
      "4.47213595499958\n",
      "0.0\n"
     ]
    }
   ],
   "source": [
    "class Point:\n",
    "    def move(self, x, y):\n",
    "        self.x = x\n",
    "        self.y = y\n",
    "        \n",
    "    def reset(self):\n",
    "        self.move(0,0)\n",
    "        \n",
    "        \n",
    "    def calculate_distance(self, other_distance):\n",
    "        return math.sqrt((self.x - other_distance.x)** 2 + (self.y - other_distance.y)** 2)\n",
    "    \n",
    "    \n",
    "p1 = Point()\n",
    "p2 = Point()\n",
    "\n",
    "p1.reset()\n",
    "p2.move(5,0)\n",
    "print(p2.calculate_distance(p1)) \n",
    "p1.move(3,4)\n",
    "print(p1.calculate_distance(p2))\n",
    "print(p1.calculate_distance(p1))"
   ]
  },
  {
   "cell_type": "code",
   "execution_count": 1,
   "id": "35a9b33d",
   "metadata": {},
   "outputs": [
    {
     "ename": "ModuleNotFoundError",
     "evalue": "No module named 'database'",
     "output_type": "error",
     "traceback": [
      "\u001b[1;31m---------------------------------------------------------------------------\u001b[0m",
      "\u001b[1;31mModuleNotFoundError\u001b[0m                       Traceback (most recent call last)",
      "\u001b[1;32m~\\AppData\\Local\\Temp\\ipykernel_9108\\3291791489.py\u001b[0m in \u001b[0;36m<module>\u001b[1;34m\u001b[0m\n\u001b[1;32m----> 1\u001b[1;33m \u001b[1;32mimport\u001b[0m \u001b[0mdatabase\u001b[0m\u001b[1;33m\u001b[0m\u001b[1;33m\u001b[0m\u001b[0m\n\u001b[0m",
      "\u001b[1;31mModuleNotFoundError\u001b[0m: No module named 'database'"
     ]
    }
   ],
   "source": [
    "import database"
   ]
  },
  {
   "cell_type": "markdown",
   "id": "a0b76376",
   "metadata": {},
   "source": [
    "Files, however, can go in folders and so can modules. A package is a collection of modules in a folder. The name of the package is the name of the folder"
   ]
  },
  {
   "cell_type": "code",
   "execution_count": 1,
   "id": "0fbb0e6b",
   "metadata": {},
   "outputs": [],
   "source": [
    "from turtle import *\n",
    "forward(100)\n",
    "shape('turtle')\n",
    "right(90)\n",
    "forward(100)\n",
    "right(90)\n",
    "forward(100)\n",
    "right(90)\n",
    "forward(100)"
   ]
  },
  {
   "cell_type": "code",
   "execution_count": 3,
   "id": "4f40d195",
   "metadata": {},
   "outputs": [],
   "source": [
    "from turtle import *\n",
    "shape('turtle')\n",
    "speed(10)\n",
    "def square():\n",
    "    for i in range(4):\n",
    "        right(90)\n",
    "        forward(100)\n",
    "square()    "
   ]
  },
  {
   "cell_type": "code",
   "execution_count": null,
   "id": "7933109c",
   "metadata": {},
   "outputs": [],
   "source": [
    "from turtle import *\n",
    "shape\n"
   ]
  }
 ],
 "metadata": {
  "kernelspec": {
   "display_name": "Python 3 (ipykernel)",
   "language": "python",
   "name": "python3"
  },
  "language_info": {
   "codemirror_mode": {
    "name": "ipython",
    "version": 3
   },
   "file_extension": ".py",
   "mimetype": "text/x-python",
   "name": "python",
   "nbconvert_exporter": "python",
   "pygments_lexer": "ipython3",
   "version": "3.9.13"
  }
 },
 "nbformat": 4,
 "nbformat_minor": 5
}
